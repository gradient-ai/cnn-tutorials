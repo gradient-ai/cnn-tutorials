{
 "cells": [
  {
   "cell_type": "code",
   "execution_count": null,
   "source": [
    "import numpy as np\n",
    "import torch\n",
    "import torch.nn.functional as F\n",
    "import cv2\n",
    "from tqdm import tqdm\n",
    "import matplotlib.pyplot as plt\n",
    "\n",
    "\n",
    "def convolve(image_filepath, filter, title=''):\n",
    "    \"\"\"\n",
    "    This function performs convolution and\n",
    "    returns both the original and convolved\n",
    "    images.\n",
    "\t\t\"\"\"\n",
    "\t\n",
    "    #  reading image in grayscale format\n",
    "    image = cv2.imread(image_filepath, cv2.IMREAD_GRAYSCALE)\n",
    "\n",
    "    #  defining filter size\n",
    "    filter_size = filter.shape[0]\n",
    "\n",
    "    #  creating an array to store convolutions (x-m+1, y-n+1)\n",
    "    convolved = np.zeros(((image.shape[0] - filter_size) + 1, \n",
    "                      (image.shape[1] - filter_size) + 1))\n",
    "    \n",
    "    #  performing convolution\n",
    "    for i in tqdm(range(image.shape[0])):\n",
    "      for j in range(image.shape[1]):\n",
    "        try:\n",
    "          convolved[i,j] = (image[i:(i+filter_size),\n",
    "                                  j:(j+filter_size)] * filter).sum()\n",
    "        except Exception:\n",
    "          pass\n",
    "\n",
    "    #  converting to tensor\n",
    "    convolved = torch.tensor(convolved)\n",
    "    #  applying relu activation\n",
    "    convolved = F.relu(convolved)\n",
    "\n",
    "    #  producing plots\n",
    "    figure, axes = plt.subplots(1,2, dpi=120)\n",
    "    plt.suptitle(title)\n",
    "    axes[0].imshow(image, cmap='gray')\n",
    "    axes[0].axis('off')\n",
    "    axes[0].set_title('original')\n",
    "    axes[1].imshow(convolved, cmap='gray')\n",
    "    axes[1].axis('off')\n",
    "    axes[1].set_title('convolved')\n",
    "    pass"
   ],
   "outputs": [],
   "metadata": {}
  },
  {
   "cell_type": "code",
   "execution_count": null,
   "source": [
    "# utilizing the horizontal filter\n",
    "# creating a Prewitt horizontal filter\n",
    "prewitt_x = np.array(([-1, 0, 1],\n",
    "                      [-1, 0, 1],\n",
    "                      [-1, 0, 1]))\n",
    "\n",
    "utilizing the horizontal filter\n",
    "convolve('image.jpg', prewitt_x)"
   ],
   "outputs": [],
   "metadata": {}
  },
  {
   "cell_type": "code",
   "execution_count": null,
   "source": [
    "# creating a Prewitt vertical filter\n",
    "prewitt_y = np.array(([-1, -1, -1],\n",
    "                      [0, 0, 0],\n",
    "                      [1, 1, 1]))\n",
    "# utilizing the vertical filter\n",
    "convolve('image.jpg', prewitt_y)"
   ],
   "outputs": [],
   "metadata": {}
  },
  {
   "cell_type": "code",
   "execution_count": null,
   "source": [
    "sobel_x = np.array(([-1, 0, 1],\n",
    "                    [-2, 0, 2],\n",
    "                    [-1, 0, 1]))\n",
    "\n",
    "# utilizing the horizontal filter\n",
    "convolve('image.jpg', horizontal)"
   ],
   "outputs": [],
   "metadata": {}
  },
  {
   "cell_type": "code",
   "execution_count": null,
   "source": [
    "# utilizing the vertical filter\n",
    "\n",
    "sobel_y = np.array(([1, 2, 1],\n",
    "                    [0, 0, 0],\n",
    "                    [-1, -2, -1]))\n",
    "convolve('image.jpg', vertical)"
   ],
   "outputs": [],
   "metadata": {}
  },
  {
   "cell_type": "code",
   "execution_count": null,
   "source": [
    "#  creating a laplacian filter\n",
    "laplacian = np.array(([-1, -1, -1],\n",
    "                      [-1, 8, -1],\n",
    "                      [-1, -1, -1]))\n",
    "# utilizing the laplacian filter\n",
    "convolve('image.jpg', filter)"
   ],
   "outputs": [],
   "metadata": {}
  },
  {
   "cell_type": "code",
   "execution_count": null,
   "source": [
    "#  creating a robinson compass mask filter: northwest\n",
    "\n",
    "north_west = np.array(([-2, -1, 0],\n",
    "                    [-1, 0, 1],\n",
    "                    [0, 1, 2]))\n",
    "\n",
    "# utilizing the north_west filter\n",
    "convolve('image.jpg', north_west)"
   ],
   "outputs": [],
   "metadata": {}
  }
 ],
 "metadata": {
  "orig_nbformat": 4,
  "language_info": {
   "name": "python"
  }
 },
 "nbformat": 4,
 "nbformat_minor": 2
}